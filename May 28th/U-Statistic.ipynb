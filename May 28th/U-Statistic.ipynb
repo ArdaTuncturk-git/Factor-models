{
 "cells": [
  {
   "cell_type": "code",
   "execution_count": 7,
   "id": "4390d672-97eb-4164-86ad-f9213a16a11a",
   "metadata": {},
   "outputs": [],
   "source": [
    "import numpy as np\n",
    "import math\n",
    "import itertools\n",
    "import scipy.stats as stats\n",
    "import matplotlib.pyplot as plt\n",
    "from sklearn.decomposition import PCA\n",
    "from statsmodels.stats.diagnostic import lilliefors\n",
    "from scipy.stats import norm\n",
    "from joblib import Parallel, delayed\n",
    "from itertools import combinations\n",
    "from scipy.special import comb\n",
    "import cProfile\n",
    "from numba import njit, prange\n",
    "from numba import cuda, float32\n",
    "import ray\n",
    "from scipy.integrate import quad\n",
    "from scipy.special import gamma"
   ]
  },
  {
   "cell_type": "markdown",
   "id": "074ec537-d3b6-4541-865e-82ac3a1f411c",
   "metadata": {},
   "source": [
    "# Simulation of the U-Statistic"
   ]
  },
  {
   "cell_type": "code",
   "execution_count": 59,
   "id": "f62f7f02-3906-4d16-9a02-171895e7a56b",
   "metadata": {},
   "outputs": [
    {
     "ename": "KeyboardInterrupt",
     "evalue": "",
     "output_type": "error",
     "traceback": [
      "\u001b[0;31m---------------------------------------------------------------------------\u001b[0m",
      "\u001b[0;31mKeyboardInterrupt\u001b[0m                         Traceback (most recent call last)",
      "Cell \u001b[0;32mIn[59], line 25\u001b[0m\n\u001b[1;32m     23\u001b[0m normal_draws \u001b[38;5;241m=\u001b[39m np\u001b[38;5;241m.\u001b[39mrandom\u001b[38;5;241m.\u001b[39mnormal(\u001b[38;5;241m0\u001b[39m, \u001b[38;5;241m1\u001b[39m, val)\n\u001b[1;32m     24\u001b[0m chi_squared_draws \u001b[38;5;241m=\u001b[39m np\u001b[38;5;241m.\u001b[39mrandom\u001b[38;5;241m.\u001b[39mchisquare(\u001b[38;5;241m1\u001b[39m, val)\n\u001b[0;32m---> 25\u001b[0m U_sym \u001b[38;5;241m=\u001b[39m \u001b[43mtriples_test\u001b[49m\u001b[43m(\u001b[49m\u001b[43mnormal_draws\u001b[49m\u001b[43m)\u001b[49m\n\u001b[1;32m     26\u001b[0m U_skew \u001b[38;5;241m=\u001b[39m triples_test(chi_squared_draws)\n\u001b[1;32m     27\u001b[0m \u001b[38;5;28;01mif\u001b[39;00m (val \u001b[38;5;241m==\u001b[39m \u001b[38;5;241m10\u001b[39m):\n",
      "Cell \u001b[0;32mIn[59], line 8\u001b[0m, in \u001b[0;36mtriples_test\u001b[0;34m(data)\u001b[0m\n\u001b[1;32m      6\u001b[0m \u001b[38;5;28;01mdef\u001b[39;00m \u001b[38;5;21mtriples_test\u001b[39m(data):\n\u001b[1;32m      7\u001b[0m     N \u001b[38;5;241m=\u001b[39m \u001b[38;5;28mlen\u001b[39m(data)\n\u001b[0;32m----> 8\u001b[0m     triplet \u001b[38;5;241m=\u001b[39m np\u001b[38;5;241m.\u001b[39marray(\u001b[38;5;28mlist\u001b[39m(combinations(data, \u001b[38;5;241m3\u001b[39m)))\n\u001b[1;32m      9\u001b[0m     X, Y, Z \u001b[38;5;241m=\u001b[39m triplet[:, \u001b[38;5;241m0\u001b[39m], triplet[:, \u001b[38;5;241m1\u001b[39m], triplet[:, \u001b[38;5;241m2\u001b[39m]\n\u001b[1;32m     10\u001b[0m     scalar \u001b[38;5;241m=\u001b[39m (\u001b[38;5;241m1\u001b[39m \u001b[38;5;241m/\u001b[39m comb(N, \u001b[38;5;241m3\u001b[39m, exact \u001b[38;5;241m=\u001b[39m \u001b[38;5;28;01mTrue\u001b[39;00m))\n",
      "\u001b[0;31mKeyboardInterrupt\u001b[0m: "
     ]
    }
   ],
   "source": [
    "# U-Statistic is defined as follows for a triplet of draws X, Y, and Z:\n",
    "# f(X, Y, Z) = sgn(X + Y - 2Z) + sgn(X + Z - 2Y) + sgn(Y + Z - 2X)\n",
    "\n",
    "# This function will calculate the triples test for skewness provided a triplet of data points\n",
    "# The argument triplet is a 3x1 vector of sampled variables\n",
    "def triples_test(data):\n",
    "    N = len(data)\n",
    "    triplet = np.array(list(combinations(data, 3)))\n",
    "    X, Y, Z = triplet[:, 0], triplet[:, 1], triplet[:, 2]\n",
    "    scalar = (1 / comb(N, 3, exact = True))\n",
    "    return scalar * np.sum(np.sign(X + Y - 2*Z) + np.sign(X + Z - 2*Y) + np.sign(Y + Z - 2*X))\n",
    "\n",
    "U_syms1 = []\n",
    "U_skews1 = []\n",
    "U_syms2 = []\n",
    "U_skews2 = []\n",
    "U_syms3 = []\n",
    "U_skews3 = []\n",
    "for n in range(1000):\n",
    "    vals = [10, 100]\n",
    "    \n",
    "    for val in vals:\n",
    "        normal_draws = np.random.normal(0, 1, val)\n",
    "        chi_squared_draws = np.random.chisquare(1, val)\n",
    "        U_sym = triples_test(normal_draws)\n",
    "        U_skew = triples_test(chi_squared_draws)\n",
    "        if (val == 10):\n",
    "            U_syms1.append(U_sym)\n",
    "            U_skews1.append(U_skew)\n",
    "        if (val == 100):\n",
    "            U_syms2.append(U_sym)\n",
    "            U_skews2.append(U_skew)\n",
    "        if (val == 500):\n",
    "            U_syms3.append(U_sym)\n",
    "            U_skews3.append(U_skew)"
   ]
  },
  {
   "cell_type": "code",
   "execution_count": 2,
   "id": "6a560ab4-90fa-49c8-92aa-1efb2c9d7aa5",
   "metadata": {},
   "outputs": [],
   "source": [
    "# Parallelized version of the above code\n",
    "\n",
    "# The triple for loop in this function is the main bottleneck in the code\n",
    "# Figure out a more computationally efficient algorithm for looping through all possible permutations\n",
    "# Think about calling the for loop using C code instead of Python code in order to make it more efficient\n",
    "@njit(parallel=True)\n",
    "def fast_triples_test(data):\n",
    "    N = len(data)\n",
    "    total = 0.0\n",
    "    for i in prange(N):\n",
    "        for j in range(i+1, N):\n",
    "            for k in range(j+1, N):\n",
    "                X, Y, Z = data[i], data[j], data[k]\n",
    "                total += np.sign(X + Y - 2*Z) + np.sign(X + Z - 2*Y) + np.sign(Y + Z - 2*X)\n",
    "    scalar = 1 / (N * (N-1) * (N-2) / 6)\n",
    "    return scalar * total\n",
    "\n",
    "\n",
    "def run_iteration(_):\n",
    "    result = {}\n",
    "    for val in [10, 100, 1000]:\n",
    "        normal_draws = np.random.normal(0, 1, val)\n",
    "        chi_squared_draws = np.random.chisquare(1, val)\n",
    "        U_sym = fast_triples_test(normal_draws)\n",
    "        U_skew = fast_triples_test(chi_squared_draws)\n",
    "        result[val] = {'U_sym': U_sym, 'U_skew': U_skew}\n",
    "    return result\n",
    "\n",
    "# Run 1000 iterations in parallel\n",
    "results = Parallel(n_jobs=-1)(delayed(run_iteration)(i) for i in range(1000))\n",
    "\n",
    "# Collect results\n",
    "U_syms1, U_skews1 = [], []\n",
    "U_syms2, U_skews2 = [], []\n",
    "U_syms3, U_skews3 = [], []\n",
    "\n",
    "for res in results:\n",
    "    U_syms1.append(res[10]['U_sym'])\n",
    "    U_skews1.append(res[10]['U_skew'])\n",
    "    U_syms2.append(res[100]['U_sym'])\n",
    "    U_skews2.append(res[100]['U_skew'])\n",
    "    U_syms3.append(res[1000]['U_sym'])\n",
    "    U_skews3.append(res[1000]['U_skew'])"
   ]
  },
  {
   "cell_type": "code",
   "execution_count": 16,
   "id": "ceb083f1-a6ea-4176-bcd6-eb4a82d80b01",
   "metadata": {},
   "outputs": [
    {
     "name": "stderr",
     "output_type": "stream",
     "text": [
      "2025-05-27 12:04:27,563\tINFO worker.py:1888 -- Started a local Ray instance.\n",
      "\n",
      "KeyboardInterrupt\n",
      "\n"
     ]
    }
   ],
   "source": [
    "# Even more parallelization compared to the already very parallelized code\n",
    "# This is in hopes of making p = 10000 computationally feasible\n",
    "# Even then, after 40 minutes this code still could not finish\n",
    "\n",
    "@njit(parallel=True)\n",
    "def fast_triples_test(data):\n",
    "    N = len(data)\n",
    "    total = 0.0\n",
    "    for i in prange(N):\n",
    "        for j in range(i+1, N):\n",
    "            for k in range(j+1, N):\n",
    "                X, Y, Z = data[i], data[j], data[k]\n",
    "                total += np.sign(X + Y - 2*Z) + np.sign(X + Z - 2*Y) + np.sign(Y + Z - 2*X)\n",
    "    scalar = 1 / (N * (N-1) * (N-2) / 6)\n",
    "    return scalar * total\n",
    "\n",
    "@ray.remote\n",
    "def run_iteration(_):\n",
    "    result = {}\n",
    "    for val in [10, 100, 1000, 10000]:\n",
    "        normal_draws = np.random.normal(0, 1, val)\n",
    "        chi_squared_draws = np.random.chisquare(1, val)\n",
    "        U_sym = fast_triples_test(normal_draws)\n",
    "        U_skew = fast_triples_test(chi_squared_draws)\n",
    "        result[val] = {'U_sym': U_sym, 'U_skew': U_skew}\n",
    "    return result\n",
    "\n",
    "if __name__ == \"__main__\":\n",
    "    ray.shutdown()\n",
    "    ray.init()  # Start Ray locally; add address= if cluster\n",
    "\n",
    "    # Launch 1000 Ray tasks asynchronously\n",
    "    futures = [run_iteration.remote(i) for i in range(1000)]\n",
    "\n",
    "    # Gather results (waits for all to finish)\n",
    "    results = ray.get(futures)\n",
    "\n",
    "    # Collect results into lists\n",
    "    U_syms1, U_skews1 = [], []\n",
    "    U_syms2, U_skews2 = [], []\n",
    "    U_syms3, U_skews3 = [], []\n",
    "    U_syms4, U_skews4 = [], []\n",
    "\n",
    "    for res in results:\n",
    "        U_syms1.append(res[10]['U_sym'])\n",
    "        U_skews1.append(res[10]['U_skew'])\n",
    "        U_syms2.append(res[100]['U_sym'])\n",
    "        U_skews2.append(res[100]['U_skew'])\n",
    "        U_syms3.append(res[1000]['U_sym'])\n",
    "        U_skews3.append(res[1000]['U_skew'])\n",
    "        U_syms4.append(res[10000]['U_sym'])\n",
    "        U_skews4.append(res[10000]['U_skew'])\n",
    "\n",
    "    print(\"Done collecting results!\")"
   ]
  },
  {
   "cell_type": "code",
   "execution_count": 4,
   "id": "22e3d746-b6db-42c6-88e4-e79ab7ae490b",
   "metadata": {},
   "outputs": [
    {
     "name": "stderr",
     "output_type": "stream",
     "text": [
      "2025-05-27 11:35:14,146\tINFO worker.py:1888 -- Started a local Ray instance.\n"
     ]
    },
    {
     "name": "stdout",
     "output_type": "stream",
     "text": [
      "Done collecting results!\n"
     ]
    }
   ],
   "source": [
    "@njit(inline='always')\n",
    "def fast_sign(x):\n",
    "    if x > 0:\n",
    "        return 1.0\n",
    "    elif x < 0:\n",
    "        return -1.0\n",
    "    else:\n",
    "        return 0.0\n",
    "\n",
    "@njit(parallel=True)\n",
    "def fast_triples_test(data):\n",
    "    N = data.shape[0]\n",
    "    total = 0.0\n",
    "    for i in prange(N):\n",
    "        for j in range(i+1, N):\n",
    "            for k in range(j+1, N):\n",
    "                X = data[i]\n",
    "                Y = data[j]\n",
    "                Z = data[k]\n",
    "                total += (\n",
    "                    fast_sign(X + Y - 2*Z) +\n",
    "                    fast_sign(X + Z - 2*Y) +\n",
    "                    fast_sign(Y + Z - 2*X)\n",
    "                )\n",
    "    scalar = 1.0 / (N * (N-1) * (N-2) / 6)\n",
    "    return scalar * total\n",
    "\n",
    "@ray.remote\n",
    "def run_iteration(_):\n",
    "    result = {}\n",
    "    for val in [10, 100, 1000]:\n",
    "        normal_draws = np.random.normal(0, 1, val)\n",
    "        chi_squared_draws = np.random.chisquare(1, val)\n",
    "        U_sym = fast_triples_test(normal_draws)\n",
    "        U_skew = fast_triples_test(chi_squared_draws)\n",
    "        result[val] = {'U_sym': U_sym, 'U_skew': U_skew}\n",
    "    return result\n",
    "\n",
    "if __name__ == \"__main__\":\n",
    "    ray.shutdown()\n",
    "    ray.init()\n",
    "\n",
    "    futures = [run_iteration.remote(i) for i in range(1000)]\n",
    "    results = ray.get(futures)\n",
    "\n",
    "    U_syms1, U_skews1 = [], []\n",
    "    U_syms2, U_skews2 = [], []\n",
    "    U_syms3, U_skews3 = [], []\n",
    "\n",
    "    for res in results:\n",
    "        U_syms1.append(res[10]['U_sym'])\n",
    "        U_skews1.append(res[10]['U_skew'])\n",
    "        U_syms2.append(res[100]['U_sym'])\n",
    "        U_skews2.append(res[100]['U_skew'])\n",
    "        U_syms3.append(res[1000]['U_sym'])\n",
    "        U_skews3.append(res[1000]['U_skew'])\n",
    "\n",
    "    print(\"Done collecting results!\")"
   ]
  },
  {
   "cell_type": "code",
   "execution_count": 5,
   "id": "2b9f935f-833f-471a-9257-7aa942c91cdd",
   "metadata": {},
   "outputs": [
    {
     "data": {
      "image/png": "[encoded data removed]",
      "text/plain": [
       "<Figure size 1500x1000 with 6 Axes>"
      ]
     },
     "metadata": {},
     "output_type": "display_data"
    }
   ],
   "source": [
    "fig, axes = plt.subplots(2, 3, figsize=(15, 10))\n",
    "\n",
    "# Loop through combinations and plot\n",
    "for i in range(2):\n",
    "    for j in range(3):\n",
    "        ax = axes[i, j]\n",
    "        if (i == 0):\n",
    "            if (j == 0):\n",
    "                ax.hist(U_syms1, bins=20, edgecolor='black')\n",
    "            if (j == 1):\n",
    "                ax.hist(U_syms2, bins=20, edgecolor='black')\n",
    "            if (j == 2):\n",
    "                ax.hist(U_syms3, bins=20, edgecolor='black')\n",
    "        if (i == 1):\n",
    "            if (j == 0):\n",
    "                ax.hist(U_skews1, bins=20, edgecolor='black')\n",
    "            if (j == 1):\n",
    "                ax.hist(U_skews2, bins=20, edgecolor='black')\n",
    "            if (j == 2):\n",
    "                ax.hist(U_skews3, bins=20, edgecolor='black')\n",
    "            \n",
    "plt.tight_layout()"
   ]
  },
  {
   "cell_type": "markdown",
   "id": "eb0dabe9-4b91-44c4-8c05-c331575fbaea",
   "metadata": {},
   "source": [
    "# Sample means and variances"
   ]
  },
  {
   "cell_type": "code",
   "execution_count": 17,
   "id": "cbb796b9-9cb3-4201-a3bb-c9a1363d1e97",
   "metadata": {},
   "outputs": [
    {
     "name": "stdout",
     "output_type": "stream",
     "text": [
      "Sample Variance for n = 10 skew: 0.034830601434768106\n",
      "Sample Variance for n = 100 skew: 0.0014855960404154065\n",
      "Sample Variance for n = 1000 skew: 0.00013207369507370573\n"
     ]
    }
   ],
   "source": [
    "print(f\"Sample Variance for n = 10 skew: {np.var(U_skews1, ddof = 1)}\")\n",
    "print(f\"Sample Variance for n = 100 skew: {np.var(U_skews2, ddof = 1)}\")\n",
    "print(f\"Sample Variance for n = 1000 skew: {np.var(U_skews3, ddof = 1)}\")"
   ]
  },
  {
   "cell_type": "code",
   "execution_count": 18,
   "id": "b0d47f55-c1f8-4c1c-ac4a-cb737422c8dd",
   "metadata": {},
   "outputs": [
    {
     "name": "stdout",
     "output_type": "stream",
     "text": [
      "Sample mean for n = 10 skew: 0.4655833333333333\n",
      "Sample mean for n = 100 skew: 0.46273205936920225\n",
      "Sample mean for n = 1000 skew: 0.464301032876564\n"
     ]
    }
   ],
   "source": [
    "print(f\"Sample mean for n = 10 skew: {np.mean(U_skews1)}\")\n",
    "print(f\"Sample mean for n = 100 skew: {np.mean(U_skews2)}\")\n",
    "print(f\"Sample mean for n = 1000 skew: {np.mean(U_skews3)}\")"
   ]
  },
  {
   "cell_type": "code",
   "execution_count": 19,
   "id": "c3711c9f-4a05-4902-a64e-f379df69a759",
   "metadata": {},
   "outputs": [
    {
     "name": "stdout",
     "output_type": "stream",
     "text": [
      "Sample Variance for n = 10 sym: 0.04439536175063953\n",
      "Sample Variance for n = 100 sym: 0.0023690239871439864\n",
      "Sample Variance for n = 1000 sym: 0.00024058576696325\n"
     ]
    }
   ],
   "source": [
    "print(f\"Sample Variance for n = 10 sym: {np.var(U_syms1, ddof = 1)}\")\n",
    "print(f\"Sample Variance for n = 100 sym: {np.var(U_syms2, ddof = 1)}\")\n",
    "print(f\"Sample Variance for n = 1000 sym: {np.var(U_syms3, ddof = 1)}\")"
   ]
  },
  {
   "cell_type": "code",
   "execution_count": 20,
   "id": "ef5ffb72-ff7c-46f9-bbbb-48100d901baf",
   "metadata": {},
   "outputs": [
    {
     "name": "stdout",
     "output_type": "stream",
     "text": [
      "Sample mean for n = 10 sym: 0.004816666666666666\n",
      "Sample mean for n = 100 sym: -0.0005728385899814476\n",
      "Sample mean for n = 1000 sym: -0.00023545405525766266\n"
     ]
    }
   ],
   "source": [
    "print(f\"Sample mean for n = 10 sym: {np.mean(U_syms1)}\")\n",
    "print(f\"Sample mean for n = 100 sym: {np.mean(U_syms2)}\")\n",
    "print(f\"Sample mean for n = 1000 sym: {np.mean(U_syms3)}\")"
   ]
  },
  {
   "cell_type": "markdown",
   "id": "2240bd0b-3d04-43d5-8694-ddbcc2c29b59",
   "metadata": {},
   "source": [
    "# Theoretical counterparts of the sample means and variances"
   ]
  },
  {
   "cell_type": "markdown",
   "id": "9bde241f-bd2c-4c8c-9d3b-f3efac9f8993",
   "metadata": {},
   "source": [
    "The population mean for the symmetric distribution case is exactly equal to 0."
   ]
  },
  {
   "cell_type": "code",
   "execution_count": 6,
   "id": "f3e5775a-2e8e-462f-b24e-b61b2b13b029",
   "metadata": {},
   "outputs": [
    {
     "name": "stdout",
     "output_type": "stream",
     "text": [
      "The theoretical mean for the skewed distribution is: 0.46433448\n"
     ]
    }
   ],
   "source": [
    "N = 10**8\n",
    "X = np.random.chisquare(1, N)\n",
    "Y = np.random.chisquare(1, N)\n",
    "Z = np.random.chisquare(1, N)\n",
    "\n",
    "# Calculating the expectation for the Chi-squared distributrion with degrees of freedom 1 monte carlo simulation\n",
    "Prob_greater = np.mean(X + Y - 2 * Z > 0)\n",
    "Prob_smaller = np.mean(X + Y - 2 * Z < 0)\n",
    "\n",
    "# The multiplication by 3 is to adjust for my use of a differently scaled U-statistic\n",
    "print(f\"The theoretical mean for the skewed distribution is: {3 * (Prob_greater - Prob_smaller)}\")"
   ]
  },
  {
   "cell_type": "code",
   "execution_count": 81,
   "id": "574cca69-e1d4-441d-95da-7fd9eef37553",
   "metadata": {},
   "outputs": [
    {
     "name": "stderr",
     "output_type": "stream",
     "text": [
      "/var/folders/lp/2803clqx0pl99g482vk3dknc0000gn/T/ipykernel_1853/449862887.py:19: IntegrationWarning: The algorithm does not converge.  Roundoff error is detected\n",
      "  in the extrapolation table.  It is assumed that the requested tolerance\n",
      "  cannot be achieved, and that the returned result (if full_output = 1) is \n",
      "  the best which can be obtained.\n",
      "  val, _ = quad(integrand, -np.inf, np.inf)\n",
      "/var/folders/lp/2803clqx0pl99g482vk3dknc0000gn/T/ipykernel_1853/449862887.py:23: IntegrationWarning: The maximum number of subdivisions (50) has been achieved.\n",
      "  If increasing the limit yields no improvement it is advised to analyze \n",
      "  the integrand in order to determine the difficulties.  If the position of a \n",
      "  local difficulty can be determined (singularity, discontinuity) one will \n",
      "  probably gain from splitting up the interval and calling the integrator \n",
      "  on the subranges.  Perhaps a special-purpose integrator should be used.\n",
      "  result_2, _ = quad(f_Z, -np.inf, 0)\n"
     ]
    }
   ],
   "source": [
    "# Integration approach to calculating the probability\n",
    "# -2Z has a - Gamma(1/2, 1/4) distribution\n",
    "# X + Y has a Gamma(1, 1/2) distribution, which is equivalent to a chi-squared degrees of freedom 2 distribution\n",
    "# Then I just use the convolution formula from probability theory and scipy's numerical integration package\n",
    "\n",
    "def f_U(u):\n",
    "    return 0.5 * np.exp(-0.5 * u) if u >= 0 else 0\n",
    "\n",
    "def f_V(v):\n",
    "    if v <= 0:\n",
    "        return (0.5 / np.sqrt(np.pi)) * (-v)**(-0.5) * np.exp(v / 4)\n",
    "    else:\n",
    "        return 0\n",
    "\n",
    "# Convolution formula for the sum of two random variables that are independent\n",
    "def f_Z(z):\n",
    "    def integrand(v):\n",
    "        return f_U(z - v) * f_V(v)\n",
    "    val, _ = quad(integrand, -np.inf, np.inf)\n",
    "    return val\n",
    "\n",
    "result, _ = quad(f_Z, 0, np.inf)\n",
    "result_2, _ = quad(f_Z, -np.inf, 0)"
   ]
  },
  {
   "cell_type": "code",
   "execution_count": 82,
   "id": "23168e8f-65af-448d-a41f-ae40375fc471",
   "metadata": {},
   "outputs": [
    {
     "name": "stdout",
     "output_type": "stream",
     "text": [
      "The theoretical mean for the skewed distribution approximately equals: 0.46445888261361845\n"
     ]
    }
   ],
   "source": [
    "print(f\"The theoretical mean for the skewed distribution approximately equals: {3 * (result - result_2)}\")"
   ]
  },
  {
   "cell_type": "code",
   "execution_count": 78,
   "id": "c8eb89ad-7354-4207-b0cc-f66cd3b8770c",
   "metadata": {},
   "outputs": [
    {
     "name": "stdout",
     "output_type": "stream",
     "text": [
      "The theoretical mean for the skewed distribution approximately equals: 0.4641015900254928\n"
     ]
    }
   ],
   "source": [
    "# This was to ensure that the above warnings did not lead to any numerical precision loss\n",
    "\n",
    "def f_U(u):\n",
    "    # PDF of chi2_2\n",
    "    return 0.5 * np.exp(-u / 2) if u >= 0 else 0\n",
    "\n",
    "def f_V(v):\n",
    "    # PDF of 2 * chi2_1\n",
    "    if v > 0:\n",
    "        return (1 / np.sqrt(4 * np.pi * v)) * np.exp(-v / 4)\n",
    "    else:\n",
    "        return 0\n",
    "\n",
    "# Convolution formula for the sum of two random variables that are independent\n",
    "def f_W(w):\n",
    "    lower_limit = max(0, -w)\n",
    "    def integrand(v):\n",
    "        return f_U(w + v) * f_V(v)\n",
    "    val, _ = quad(integrand, lower_limit, np.inf)\n",
    "    return val\n",
    "\n",
    "def prob_W_greater_than_0():\n",
    "    val, _ = quad(f_W, 0, np.inf)\n",
    "    return val\n",
    "\n",
    "result = 2 * prob_W_greater_than_0() - 1\n",
    "\n",
    "# The scaling by 3 is to adjust for my version of the U-statistic being slightly different\n",
    "print(f\"The theoretical mean for the skewed distribution approximately equals: {3 * result}\")"
   ]
  },
  {
   "cell_type": "markdown",
   "id": "3469c94c-3f65-4bb1-b67f-48c57333599c",
   "metadata": {},
   "source": [
    "# Testing for skew in the one factor model"
   ]
  },
  {
   "cell_type": "code",
   "execution_count": 44,
   "id": "2eb4fbf0-bec8-4567-a0bf-4e1cf4304a0d",
   "metadata": {},
   "outputs": [],
   "source": [
    "# U-Statistic is defined as follows for a triplet of draws X, Y, and Z:\n",
    "# f(X, Y, Z) = sgn(X + Y - 2Z) + sgn(X + Z - 2Y) + sgn(Y + Z - 2X)\n",
    "\n",
    "# This function will calculate the triples test for skewness provided a triplet of data points\n",
    "# The argument triplet is a 3x1 vector of sampled variables\n",
    "def triples_test(data):\n",
    "    N = len(data)\n",
    "    triplet = np.array(list(combinations(data, 3)))\n",
    "    X, Y, Z = triplet[:, 0], triplet[:, 1], triplet[:, 2]\n",
    "    scalar = (1 / comb(N, 3, exact = True))\n",
    "    return scalar * np.sum(np.sign(X + Y - 2*Z) + np.sign(X + Z - 2*Y) + np.sign(Y + Z - 2*X))\n",
    "\n",
    "\n",
    "U_stats_100 = []\n",
    "U_stats_1000 = []\n",
    "U_stats_10000 = []"
   ]
  },
  {
   "cell_type": "code",
   "execution_count": 51,
   "id": "1593e94e-b0f9-46d3-bd2e-1786c3ce7078",
   "metadata": {},
   "outputs": [],
   "source": [
    "for i in range(999):\n",
    "    # Originally simulate the 10000 betas from a normal distribution with mean 1 and variance 0.25\n",
    "    betas = np.random.normal(1, 0.25, 10000)\n",
    "    \n",
    "    p_vector = [100, 1000, 10000]\n",
    "    \n",
    "    #This is the number of observations/simulations that will be done for this example\n",
    "    n = 100\n",
    "    \n",
    "    # This is just the variance of the factor that I chose. For the purposes of simulation, this is fine.\n",
    "    # In real data, find this number via doing PCA.\n",
    "    variance = 25\n",
    "    \n",
    "    for p in p_vector:\n",
    "        # Since the factor and specific returns are jointly normal with dimension p + 1 and are independent\n",
    "        # their corresponding marginal distributions are also normally distributed\n",
    "        # For the purposes of simultation, simulating from the marginal distributions rather than the joint MVN distribution\n",
    "        # is a lot more computationally feasible\n",
    "        # Simulation from the MVN has O(p^3) runtime\n",
    "    \n",
    "        betas_p = betas[:p]\n",
    "        facs = np.random.normal(10, variance, n)\n",
    "        specifics = np.random.normal(0, 1, (p, n))\n",
    "    \n",
    "        fac_returns = (np.outer(betas_p, facs) + specifics)\n",
    "        sum_returns = 1/p * (np.sum(fac_returns, axis = 0))**2\n",
    "        U_stat = triples_test(sum_returns)\n",
    "        if (p == 100):\n",
    "            U_stats_100.append(U_stat)\n",
    "        if (p == 1000):\n",
    "            U_stats_1000.append(U_stat)\n",
    "        if (p == 10000):\n",
    "            U_stats_10000.append(U_stat)"
   ]
  },
  {
   "cell_type": "code",
   "execution_count": 53,
   "id": "f9ef824c-b11e-4ba0-9e7f-33da2251942b",
   "metadata": {},
   "outputs": [
    {
     "data": {
      "image/png": "[encoded data removed]",
      "text/plain": [
       "<Figure size 1500x1000 with 3 Axes>"
      ]
     },
     "metadata": {},
     "output_type": "display_data"
    }
   ],
   "source": [
    "fig, axes = plt.subplots(1, 3, figsize=(15, 10))\n",
    "\n",
    "axes[0].hist(U_stats_100)\n",
    "\n",
    "axes[1].hist(U_stats_1000)\n",
    "\n",
    "axes[2].hist(U_stats_10000);"
   ]
  }
 ],
 "metadata": {
  "kernelspec": {
   "display_name": "Python 3 (ipykernel)",
   "language": "python",
   "name": "python3"
  },
  "language_info": {
   "codemirror_mode": {
    "name": "ipython",
    "version": 3
   },
   "file_extension": ".py",
   "mimetype": "text/x-python",
   "name": "python",
   "nbconvert_exporter": "python",
   "pygments_lexer": "ipython3",
   "version": "3.11.6"
  }
 },
 "nbformat": 4,
 "nbformat_minor": 5
}
